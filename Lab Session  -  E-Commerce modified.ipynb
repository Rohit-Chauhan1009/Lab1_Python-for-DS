{
 "cells": [
  {
   "cell_type": "markdown",
   "id": "2c8f47d3",
   "metadata": {
    "id": "2c8f47d3"
   },
   "source": [
    "# Lab Session"
   ]
  },
  {
   "cell_type": "markdown",
   "id": "f637aba6",
   "metadata": {
    "id": "f637aba6"
   },
   "source": [
    "## <font color='blue'> Table Of Contents </font>\n",
    "- Problem Statement \n",
    "- Load required libraries\n",
    "- Connect to DB using mysql-connector-python package\n",
    "- Create database named `e_commerce`\n",
    "- Create tables and insert data into tables as specified in the question\n",
    "- Read all the questions and write sql queries to meet the objective "
   ]
  },
  {
   "cell_type": "markdown",
   "id": "1073fc90",
   "metadata": {
    "id": "1073fc90"
   },
   "source": [
    "## <font color='blue'> Problem Statement </font>\n",
    "###  An E-commerce website manages its data in the form of various tables.\n",
    "You need to create a Database called `e_commerce` and various tables in it. The tables needed and attributes which need to be in every table are given before hand. All you have to do is create tables with data in it and answer some of the questions that follows."
   ]
  },
  {
   "cell_type": "markdown",
   "id": "48787355",
   "metadata": {
    "id": "48787355"
   },
   "source": [
    "### e_commerce Schema:"
   ]
  },
  {
   "cell_type": "markdown",
   "id": "78938fbc",
   "metadata": {
    "id": "78938fbc"
   },
   "source": [
    "![e_commerce%20_schema.png](attachment:e_commerce%20_schema.png)"
   ]
  },
  {
   "cell_type": "markdown",
   "id": "d9abe6c7",
   "metadata": {
    "id": "d9abe6c7"
   },
   "source": [
    "### Load Required Libraries"
   ]
  },
  {
   "cell_type": "code",
   "execution_count": 2,
   "id": "0178d08e",
   "metadata": {
    "id": "0178d08e"
   },
   "outputs": [],
   "source": [
    "import mysql.connector\n",
    "import pandas as pd"
   ]
  },
  {
   "cell_type": "markdown",
   "id": "d7d7fd5c",
   "metadata": {
    "id": "d7d7fd5c"
   },
   "source": [
    "### Connect to DB using Mysql-connector-python package"
   ]
  },
  {
   "cell_type": "code",
   "execution_count": 3,
   "id": "ef7bef72",
   "metadata": {
    "id": "ef7bef72"
   },
   "outputs": [],
   "source": [
    "connection = mysql.connector.connect(\n",
    "    host=\"localhost\",\n",
    "    user=\"root\",\n",
    "    password=\"BigBang@1009\",\n",
    ")"
   ]
  },
  {
   "cell_type": "code",
   "execution_count": 5,
   "id": "282352dd-4159-4be1-8812-95bb6c47497f",
   "metadata": {},
   "outputs": [],
   "source": [
    "cursor = connection.cursor()"
   ]
  },
  {
   "cell_type": "markdown",
   "id": "9d55e510",
   "metadata": {
    "id": "9d55e510"
   },
   "source": [
    "### You are required to create a database named 'e_commerce'"
   ]
  },
  {
   "cell_type": "code",
   "execution_count": 6,
   "id": "42a154f2",
   "metadata": {
    "id": "42a154f2"
   },
   "outputs": [
    {
     "name": "stdout",
     "output_type": "stream",
     "text": [
      "Database created successfully!\n"
     ]
    }
   ],
   "source": [
    "\n",
    "\n",
    "# create a new Database\n",
    "\n",
    "Database_name = 'e_commerce'\n",
    "cursor.execute(\"CREATE DATABASE IF NOT EXISTS {}\".format(Database_name))\n",
    "print(\"Database created successfully!\")\n"
   ]
  },
  {
   "cell_type": "markdown",
   "id": "480dc986",
   "metadata": {
    "id": "480dc986"
   },
   "source": [
    "### Q1. Create tables for supplier, customer, category, product, productDetails, order, rating to store the data for the E-commerce with the schema definition given below.\n",
    "\n",
    "\n",
    "- **`supplier`**(SUPP_ID int primary key, SUPP_NAME varchar(50), SUPP_CITY varchar(50), SUPP_PHONE varchar(10))\n",
    "\n",
    "\n",
    "- **`customer`** (CUS_ID INT NOT NULL, CUS_NAME VARCHAR(20) NULL DEFAULT NULL, CUS_PHONE VARCHAR(10), CUS_CITY varchar(30) ,CUS_GENDER CHAR,PRIMARY KEY (CUS_ID))\n",
    "\n",
    "\n",
    "- **`category`** (CAT_ID INT NOT NULL, CAT_NAME VARCHAR(20) NULL DEFAULT NULL,PRIMARY KEY (CAT_ID))\n",
    "\n",
    "\n",
    "- **`product`** (PRO_ID INT NOT NULL, PRO_NAME VARCHAR(20) NULL DEFAULT NULL, PRO_DESC VARCHAR(60) NULL DEFAULT NULL, CAT_ID INT NOT NULL,PRIMARY KEY (PRO_ID),FOREIGN KEY (CAT_ID) REFERENCES CATEGORY (CAT_ID))\n",
    "\n",
    "\n",
    "- **`product_details`** (PROD_ID INT NOT NULL, PRO_ID INT NOT NULL, SUPP_ID INT NOT NULL, PROD_PRICE INT NOT NULL,\n",
    "  PRIMARY KEY (PROD_ID),FOREIGN KEY (PRO_ID) REFERENCES PRODUCT (PRO_ID), FOREIGN KEY (SUPP_ID) REFERENCES SUPPLIER(SUPP_ID))\n",
    "  \n",
    "  \n",
    "- **`order`** (ORD_ID INT NOT NULL, ORD_AMOUNT INT NOT NULL, ORD_DATE DATE, CUS_ID INT NOT NULL, PROD_ID INT NOT NULL,PRIMARY KEY (ORD_ID),FOREIGN KEY (CUS_ID) REFERENCES CUSTOMER(CUS_ID),FOREIGN KEY (PROD_ID) REFERENCES PRODUCT_DETAILS(PROD_ID))\n",
    "\n",
    "\n",
    "- **`rating`** (RAT_ID INT NOT NULL, CUS_ID INT NOT NULL, SUPP_ID INT NOT NULL, RAT_RATSTARS INT NOT NULL,PRIMARY KEY (RAT_ID),FOREIGN KEY (SUPP_ID) REFERENCES SUPPLIER (SUPP_ID),FOREIGN KEY (CUS_ID) REFERENCES CUSTOMER(CUS_ID))"
   ]
  },
  {
   "cell_type": "code",
   "execution_count": 34,
   "id": "57d2dd10-8e34-4b65-baf1-e77d0b3e9db9",
   "metadata": {},
   "outputs": [],
   "source": [
    "connection = mysql.connector.connect(\n",
    "    host=\"localhost\",\n",
    "    user=\"root\",\n",
    "    password=\"BigBang@1009\",\n",
    "    database=\"e_commerce\"  # Specify the database you created\n",
    ")\n",
    "cursor = connection.cursor()"
   ]
  },
  {
   "cell_type": "code",
   "execution_count": 30,
   "id": "967b718f",
   "metadata": {
    "id": "967b718f"
   },
   "outputs": [
    {
     "name": "stdout",
     "output_type": "stream",
     "text": [
      "supplier table created successfully\n"
     ]
    }
   ],
   "source": [
    "supplier = \"\"\"\n",
    "        CREATE TABLE IF NOT EXISTS supplier(\n",
    "        SUPP_ID INT PRIMARY KEY,\n",
    "        SUPP_NAME VARCHAR(50),\n",
    "        SUPP_CITY VARCHAR(50),\n",
    "        SUPP_PHONE VARCHAR(13)\n",
    "    )\n",
    "    \"\"\"\n",
    "cursor.execute(supplier)\n",
    "connection.commit()\n",
    "print(\"supplier table created successfully\")"
   ]
  },
  {
   "cell_type": "code",
   "execution_count": 27,
   "id": "7015366d-1271-4138-9169-243ffae6a6f7",
   "metadata": {},
   "outputs": [
    {
     "name": "stdout",
     "output_type": "stream",
     "text": [
      "Customer table created successfully\n"
     ]
    }
   ],
   "source": [
    "customer = \"\"\"\n",
    "    CREATE TABLE IF NOT EXISTS customer(\n",
    "        CUS_ID INT NOT NULL,\n",
    "        CUS_NAME VARCHAR(20) DEFAULT NULL,\n",
    "        CUS_PHONE VARCHAR(13),\n",
    "        CUS_CITY VARCHAR(30),\n",
    "        CUS_GENDER CHAR,\n",
    "        PRIMARY KEY (CUS_ID) \n",
    "    )\"\"\"\n",
    "cursor.execute(customer)\n",
    "connection.commit()\n",
    "print(\"Customer table created successfully\")"
   ]
  },
  {
   "cell_type": "code",
   "execution_count": 20,
   "id": "32f4668a-4062-49b4-aa6e-3f1986c9d024",
   "metadata": {},
   "outputs": [
    {
     "name": "stdout",
     "output_type": "stream",
     "text": [
      "category table created successfully\n"
     ]
    }
   ],
   "source": [
    "category = \"\"\"\n",
    "    CREATE TABLE IF NOT EXISTS category (\n",
    "        CAT_ID INT NOT NULL, \n",
    "        CAT_NAME VARCHAR(20) NULL DEFAULT NULL,\n",
    "        PRIMARY KEY (CAT_ID)\n",
    "    )\n",
    "\"\"\"\n",
    "cursor.execute(category)\n",
    "connection.commit()\n",
    "print(\"category table created successfully\")"
   ]
  },
  {
   "cell_type": "code",
   "execution_count": 23,
   "id": "821cae30-2b11-4bee-9d90-2b895d78daff",
   "metadata": {},
   "outputs": [
    {
     "name": "stdout",
     "output_type": "stream",
     "text": [
      "product table created successfully\n"
     ]
    }
   ],
   "source": [
    "product =\"\"\"\n",
    "    CREATE TABLE IF NOT EXISTS product(\n",
    "        PRO_ID INT NOT NULL,\n",
    "        PRO_NAME VARCHAR(50) DEFAULT NULL,\n",
    "        PRO_DESC VARCHAR(60) DEFAULT NULL,\n",
    "        CAT_ID INT NOT NULL,\n",
    "        PRIMARY KEY(PRO_ID),\n",
    "        FOREIGN KEY(CAT_ID) REFERENCES category(CAT_ID)\n",
    "    )\n",
    "\"\"\"\n",
    "cursor.execute(product)\n",
    "connection.commit()\n",
    "print(\"product table created successfully\")"
   ]
  },
  {
   "cell_type": "code",
   "execution_count": 24,
   "id": "d8252e71-bdc3-4dd9-b545-0d67863e4dbd",
   "metadata": {},
   "outputs": [
    {
     "name": "stdout",
     "output_type": "stream",
     "text": [
      "product_details table created successfully\n"
     ]
    }
   ],
   "source": [
    "product_details = \"\"\"\n",
    "    CREATE TABLE IF NOT EXISTS product_details(\n",
    "        PROD_ID INT NOT NULL,\n",
    "        PRO_ID INT NOT NULL,\n",
    "        SUPP_ID INT NOT NULL,\n",
    "        PROD_PRICE INT NOT NULL,\n",
    "        PRIMARY KEY(PROD_ID),\n",
    "        FOREIGN KEY(PRO_ID) REFERENCES product(PRO_ID),\n",
    "        FOREIGN KEY(SUPP_ID) REFERENCES supplier(SUPP_ID)\n",
    "    )\n",
    "\"\"\"\n",
    "\n",
    "cursor.execute(product_details)\n",
    "connection.commit()\n",
    "print(\"product_details table created successfully\")"
   ]
  },
  {
   "cell_type": "code",
   "execution_count": 28,
   "id": "caabd9be-fd4e-463e-b49b-a28e44258388",
   "metadata": {},
   "outputs": [
    {
     "name": "stdout",
     "output_type": "stream",
     "text": [
      "orders table created successfully\n"
     ]
    }
   ],
   "source": [
    "orders = \"\"\"\n",
    "    CREATE TABLE IF NOT EXISTS orders(\n",
    "        ORD_ID INT NOT NULL,\n",
    "        ORD_AMOUNT INT NOT NULL,\n",
    "        ORDER_DATE DATE,\n",
    "        PRIMARY KEY(ORD_ID),\n",
    "        CUS_ID INT NOT NULL,\n",
    "        PROD_ID INT NOT NULL,\n",
    "        FOREIGN KEY(CUS_ID) REFERENCES customer(CUS_ID),\n",
    "        FOREIGN KEY(PROD_ID) REFERENCES product_details(PROD_ID)\n",
    "    )\n",
    "\"\"\"\n",
    "cursor.execute(orders)\n",
    "connection.commit()\n",
    "print(\"orders table created successfully\")"
   ]
  },
  {
   "cell_type": "code",
   "execution_count": 35,
   "id": "4b903ef3-7dda-41c4-b57b-68c71915eac1",
   "metadata": {},
   "outputs": [
    {
     "name": "stdout",
     "output_type": "stream",
     "text": [
      "rating table created successfully\n"
     ]
    }
   ],
   "source": [
    "rating = \"\"\"\n",
    "    CREATE TABLE IF NOT EXISTS rating(\n",
    "        RAT_ID INT NOT NULL,\n",
    "        CUS_ID INT NOT NULL,\n",
    "        SUPP_ID INT NOT NULL,\n",
    "        RAT_RATSTARS INT NOT NULL,\n",
    "        PRIMARY KEY(RAT_ID),\n",
    "        FOREIGN KEY(CUS_ID) REFERENCES customer(CUS_ID),\n",
    "        FOREIGN KEY(SUPP_ID) REFERENCES supplier(SUPP_ID)\n",
    "    )\n",
    "\"\"\"\n",
    "cursor.execute(rating)\n",
    "connection.commit()\n",
    "print(\"rating table created successfully\")"
   ]
  },
  {
   "cell_type": "markdown",
   "id": "1f653731",
   "metadata": {
    "id": "1f653731"
   },
   "source": [
    "### Q2. Insert the following data in the table created above\n",
    "#### `Note:` If you are getting any error while inserting the data into tables, Kindly close the connection and reconnect\n",
    "\n",
    "#### Table:  supplier\n",
    "| SUPP_ID | SUPP_NAME | SUPP_CITY | SUPP_PHONE |\n",
    "| --- | --- | --- | --- | \n",
    "| 1 | Rajesh Retails | Delhi | 1234567890 |\n",
    "| 2 | Appario Ltd. | Mumbai | 258963147032 | \n",
    "| 3 | Knome products | Bangalore | 9785462315 |\n",
    "| 4 | Bansal Retails | Kochi | 8975463285 |\n",
    "| 5 | Mittal Ltd. | Lucknow | 7898456532 |"
   ]
  },
  {
   "cell_type": "code",
   "execution_count": 8,
   "id": "f6dddd07",
   "metadata": {
    "id": "f6dddd07"
   },
   "outputs": [
    {
     "name": "stdout",
     "output_type": "stream",
     "text": [
      "Data inserted into the supplier table successfully!\n"
     ]
    }
   ],
   "source": [
    "# insert into \"supplier\" table\n",
    "insert_supplier_data_query = \"\"\"\n",
    "    INSERT INTO supplier (SUPP_ID, SUPP_NAME, SUPP_CITY, SUPP_PHONE)\n",
    "    VALUES\n",
    "        (1,\t'Rajesh Retails', 'Delhi', 1234567890),\n",
    "        (2,\t'Appario Ltd.', 'Mumbai', 258963147032),\n",
    "        (3,\t'Knome products', 'Bangalore', 9785462315),\n",
    "        (4,\t'Bansal Retails', 'Kochi', 8975463285),\n",
    "        (5,\t'Mittal Ltd.', 'Lucknow', 7898456532)\n",
    "\"\"\"\n",
    "cursor.execute(insert_supplier_data_query)\n",
    "connection.commit()\n",
    "print(\"Data inserted into the supplier table successfully!\")"
   ]
  },
  {
   "cell_type": "markdown",
   "id": "e8a070a6",
   "metadata": {
    "id": "e8a070a6"
   },
   "source": [
    "#### Table:  customer\n",
    "| CUS_ID | CUS_NAME | SUPP_PHONE | CUS_CITY | CUS_GENDER\n",
    "| --- | --- | --- | --- | --- |\n",
    "| 1 | AAKASH | 9999999999 | DELHI | M |\n",
    "| 2 | AMAN | 9785463215 | NOIDA | M |\n",
    "| 3 | NEHA | 9999999998 | MUMBAI | F |\n",
    "| 4 | MEGHA | 9994562399 | KOLKATA | F |\n",
    "| 5 | PULKIT | 7895999999 | LUCKNOW | M |"
   ]
  },
  {
   "cell_type": "code",
   "execution_count": 10,
   "id": "15a4ee87",
   "metadata": {
    "id": "15a4ee87"
   },
   "outputs": [
    {
     "name": "stdout",
     "output_type": "stream",
     "text": [
      "Data inserted into the customer table successfully!\n"
     ]
    }
   ],
   "source": [
    "# insert into \"customer\" table\n",
    "insert_customer_data_query = \"\"\"\n",
    "    INSERT INTO customer(CUS_ID, CUS_NAME, CUS_PHONE, CUS_CITY, CUS_GENDER)\n",
    "    VALUES\n",
    "        (1, 'AAKASH', 9999999999, 'DELHI', 'M'),\n",
    "        (2, 'AMAN', 9785463215, 'NOIDA', 'M'),\n",
    "        (3, 'NEHA', 9999999998, 'MUMBAI', 'F'),\n",
    "        (4, 'MEGHA', 9994562399, 'KOLKATA', 'F'),\n",
    "        (5, 'PULKIT', 7895999999, 'LUCKNOW', 'M')\n",
    "\"\"\"\n",
    "cursor.execute(insert_customer_data_query)\n",
    "connection.commit()\n",
    "print(\"Data inserted into the customer table successfully!\")"
   ]
  },
  {
   "cell_type": "markdown",
   "id": "b68bfbc2",
   "metadata": {
    "id": "b68bfbc2"
   },
   "source": [
    "#### Table:  category\n",
    "| CAT_ID | CAT_NAME | \n",
    "| --- | --- |  \n",
    "| 1 | BOOKS |\n",
    "| 2 | GAMES |  \n",
    "| 3 | GROCERIES | \n",
    "| 4 | ELECTRONICS | \n",
    "| 5 | CLOTHES | "
   ]
  },
  {
   "cell_type": "code",
   "execution_count": 13,
   "id": "05a00abc",
   "metadata": {
    "id": "05a00abc"
   },
   "outputs": [
    {
     "name": "stdout",
     "output_type": "stream",
     "text": [
      "Data inserted into the category table successfully!\n"
     ]
    }
   ],
   "source": [
    "# insert into \"categoty\" table\n",
    "insert_category_data_query = \"\"\"\n",
    "    INSERT INTO category(CAT_ID, CAT_NAME)\n",
    "    VALUES\n",
    "        (1, 'BOOKS'),\n",
    "        (2, 'GAMES'),\n",
    "        (3, 'GROCERIES'),\n",
    "        (4, 'ELECTRONICS'),\n",
    "        (5, 'CLOTHES')\n",
    "\"\"\"\n",
    "cursor.execute(insert_category_data_query)\n",
    "connection.commit()\n",
    "print(\"Data inserted into the category table successfully!\")"
   ]
  },
  {
   "cell_type": "markdown",
   "id": "eb3bc592",
   "metadata": {
    "id": "eb3bc592"
   },
   "source": [
    "#### Table:  product\n",
    "| PRO_ID | PRO_NAME | PRO_DESC | CAT_ID |\n",
    "| --- | --- | --- | --- | \n",
    "| 1 | GTA V | DFJDJFDJFDJFDJFJF | 2 |\n",
    "| 2 | TSHIRT | DFDFJDFJDKFD | 5 | \n",
    "| 3 | ROG LAPTOP | DFNTTNTNTERND | 4 |\n",
    "| 4 | OATS | REURENTBTOTH | 3 |\n",
    "| 5 | HARRY POTTER | NBEMCTHTJTH | 1 |\n"
   ]
  },
  {
   "cell_type": "code",
   "execution_count": 14,
   "id": "cdfbdfad",
   "metadata": {
    "id": "cdfbdfad"
   },
   "outputs": [
    {
     "name": "stdout",
     "output_type": "stream",
     "text": [
      "Data inserted into the product table successfully!\n"
     ]
    }
   ],
   "source": [
    "# insert into \"product\" table\n",
    "insert_product_data_query =\"\"\"\n",
    "    INSERT INTO product(PRO_ID, PRO_NAME, PRO_DESC, CAT_ID)\n",
    "    values\n",
    "        (1, 'GTA V', 'DFJDJFDJFDJFDJFJF', 2),\n",
    "        (2, 'TSHIRT', 'DFDFJDFJDKFD', 5),\n",
    "        (3, 'ROG LAPTOP', 'DFNTTNTNTERND', 4),\n",
    "        (4, 'OATS', 'REURENTBTOTH', 3),\n",
    "        (5, 'HARRY POTTER', 'NBEMCTHTJTH', 1)\n",
    "\"\"\"\n",
    "cursor.execute(insert_product_data_query)\n",
    "connection.commit()\n",
    "print(\"Data inserted into the product table successfully!\")"
   ]
  },
  {
   "cell_type": "markdown",
   "id": "cfa8a47d",
   "metadata": {
    "id": "cfa8a47d"
   },
   "source": [
    "#### Table:  product_details\n",
    "| PROD_ID | PRO_ID | SUPP_ID | PROD_PRICE |\n",
    "| --- | --- | --- | --- | \n",
    "| 1 | 1 | 2 | 1500 |\n",
    "| 2 | 3 | 5 | 30000 | \n",
    "| 3 | 5 | 1 | 3000 |\n",
    "| 4 | 2 | 3 | 2500 |\n",
    "| 5 | 4 | 1 | 1000 |"
   ]
  },
  {
   "cell_type": "code",
   "execution_count": 15,
   "id": "c18ea964",
   "metadata": {
    "id": "c18ea964"
   },
   "outputs": [
    {
     "name": "stdout",
     "output_type": "stream",
     "text": [
      "Data inserted into the product_details table successfully!\n"
     ]
    }
   ],
   "source": [
    "# insert into \"product_details\" table\n",
    "insert_product_details_data_query = \"\"\"\n",
    "    INSERT INTO product_details (PROD_ID, PRO_ID, SUPP_ID, PROD_PRICE)\n",
    "    VALUES\n",
    "        (1, 1, 2, 1500),\n",
    "        (2, 3, 5, 30000),\n",
    "        (3, 5, 1, 3000),\n",
    "        (4, 2, 3, 2500),\n",
    "        (5, 4, 1, 1000)\n",
    "\"\"\"\n",
    "cursor.execute(insert_product_details_data_query)\n",
    "connection.commit()\n",
    "print(\"Data inserted into the product_details table successfully!\")"
   ]
  },
  {
   "cell_type": "markdown",
   "id": "1df49086",
   "metadata": {
    "id": "1df49086"
   },
   "source": [
    "#### Table:  orders\n",
    "| ORD_ID | ORD_AMOUNT | ORD_DATE | CUS_ID | PROD_ID\n",
    "| --- | --- | --- | --- | --- |\n",
    "| 20 | 1500 | 2021-10-12 | 3 | 5 |\n",
    "| 25 | 30500 | 2021-09-16 | 5 | 2 |\n",
    "| 26 | 2000 | 2021-10-05 | 1 | 1 |\n",
    "| 30 | 3500 | 2021-08-16 | 4 | 3 |\n",
    "| 50 | 2000 | 2021-10-06 | 2 | 1 |"
   ]
  },
  {
   "cell_type": "code",
   "execution_count": 19,
   "id": "0d97dc92",
   "metadata": {
    "id": "0d97dc92"
   },
   "outputs": [
    {
     "name": "stdout",
     "output_type": "stream",
     "text": [
      "Data inserted into the orders table successfully!\n"
     ]
    }
   ],
   "source": [
    "# insert into \"orders\" table\n",
    "insert_orders_data_query = \"\"\"\n",
    "    INSERT INTO orders(ORD_ID, ORD_AMOUNT, ORDER_DATE, CUS_ID, PROD_ID)\n",
    "    VALUES \n",
    "        (20, 1500, '2021-10-12', 3, 5),\n",
    "        (25, 30500, '2021-09-16', 5, 2),\n",
    "        (26, 2000, '2021-10-05', 1, 1),\n",
    "        (30, 3500, '2021-08-16', 4, 3),\n",
    "        (50, 2000, '2021-10-06', 2, 1)\n",
    "\"\"\"\n",
    "cursor.execute(insert_orders_data_query)\n",
    "connection.commit()\n",
    "print(\"Data inserted into the orders table successfully!\")"
   ]
  },
  {
   "cell_type": "markdown",
   "id": "75b8ce5f",
   "metadata": {
    "id": "75b8ce5f"
   },
   "source": [
    "#### Table: rating\n",
    "| RAT_ID | CUS_ID | SUPP_ID | RAT_RATSTARS |\n",
    "| --- | --- | --- | --- | \n",
    "| 1 | 2 | 2 | 4 |\n",
    "| 2 | 3 | 4 | 3 | \n",
    "| 3 | 5 | 1 | 5 |\n",
    "| 4 | 1 | 3 | 2 |\n",
    "| 5 | 4 | 5 | 4 |"
   ]
  },
  {
   "cell_type": "code",
   "execution_count": 20,
   "id": "6d5f1e18",
   "metadata": {
    "id": "6d5f1e18"
   },
   "outputs": [
    {
     "name": "stdout",
     "output_type": "stream",
     "text": [
      "Data inserted into the orders table successfully!\n"
     ]
    }
   ],
   "source": [
    "# insert into \"rating\" table\n",
    "insert_rating_data_query = \"\"\"\n",
    "    INSERT INTO rating(RAT_ID, CUS_ID, SUPP_ID, RAT_RATSTARS)\n",
    "    VALUES\n",
    "        (1, 2, 2, 4),\n",
    "        (2, 3, 4, 3),\n",
    "        (3, 5, 1, 5),\n",
    "        (4, 1, 3, 2),\n",
    "        (5, 4, 5, 4)\n",
    "\n",
    "\"\"\"\n",
    "cursor.execute(insert_rating_data_query)\n",
    "connection.commit()\n",
    "print(\"Data inserted into the orders table successfully!\")"
   ]
  },
  {
   "cell_type": "markdown",
   "id": "b59361c3",
   "metadata": {
    "id": "b59361c3"
   },
   "source": [
    "### Q3) Display the number of the customer group by their genders who have placed any order of amount greater than or equal to Rs.3000."
   ]
  },
  {
   "cell_type": "code",
   "execution_count": 24,
   "id": "fcafaf3c",
   "metadata": {
    "id": "fcafaf3c"
   },
   "outputs": [
    {
     "data": {
      "text/html": [
       "<div>\n",
       "<style scoped>\n",
       "    .dataframe tbody tr th:only-of-type {\n",
       "        vertical-align: middle;\n",
       "    }\n",
       "\n",
       "    .dataframe tbody tr th {\n",
       "        vertical-align: top;\n",
       "    }\n",
       "\n",
       "    .dataframe thead th {\n",
       "        text-align: right;\n",
       "    }\n",
       "</style>\n",
       "<table border=\"1\" class=\"dataframe\">\n",
       "  <thead>\n",
       "    <tr style=\"text-align: right;\">\n",
       "      <th></th>\n",
       "      <th>CUS_GENDER</th>\n",
       "      <th>COUNT</th>\n",
       "    </tr>\n",
       "  </thead>\n",
       "  <tbody>\n",
       "    <tr>\n",
       "      <th>0</th>\n",
       "      <td>F</td>\n",
       "      <td>1</td>\n",
       "    </tr>\n",
       "    <tr>\n",
       "      <th>1</th>\n",
       "      <td>M</td>\n",
       "      <td>1</td>\n",
       "    </tr>\n",
       "  </tbody>\n",
       "</table>\n",
       "</div>"
      ],
      "text/plain": [
       "  CUS_GENDER  COUNT\n",
       "0          F      1\n",
       "1          M      1"
      ]
     },
     "execution_count": 24,
     "metadata": {},
     "output_type": "execute_result"
    }
   ],
   "source": [
    "count_customers_query = \"\"\"\n",
    "    SELECT CUS_GENDER, COUNT(DISTINCT CUS_ID) AS count\n",
    "    FROM customer\n",
    "    WHERE CUS_ID IN(\n",
    "        SELECT DISTINCT CUS_ID \n",
    "        FROM orders\n",
    "        WHERE ORD_AMOUNT >= 3000\n",
    "    )\n",
    "    GROUP BY CUS_GENDER\n",
    "\"\"\"\n",
    "cursor.execute(count_customers_query)\n",
    "customer_gender_counts = cursor.fetchall()\n",
    "\n",
    "output_df = pd.DataFrame(customer_gender_counts, columns = ['CUS_GENDER','COUNT'])\n",
    "output_df\n"
   ]
  },
  {
   "cell_type": "markdown",
   "id": "e49e04f5",
   "metadata": {
    "id": "e49e04f5"
   },
   "source": [
    "### Q4) Display all the order along with product name ordered by a customer having Customer_Id=2;"
   ]
  },
  {
   "cell_type": "code",
   "execution_count": 26,
   "id": "9dcb7883",
   "metadata": {
    "id": "9dcb7883"
   },
   "outputs": [
    {
     "data": {
      "text/html": [
       "<div>\n",
       "<style scoped>\n",
       "    .dataframe tbody tr th:only-of-type {\n",
       "        vertical-align: middle;\n",
       "    }\n",
       "\n",
       "    .dataframe tbody tr th {\n",
       "        vertical-align: top;\n",
       "    }\n",
       "\n",
       "    .dataframe thead th {\n",
       "        text-align: right;\n",
       "    }\n",
       "</style>\n",
       "<table border=\"1\" class=\"dataframe\">\n",
       "  <thead>\n",
       "    <tr style=\"text-align: right;\">\n",
       "      <th></th>\n",
       "      <th>ORD_ID</th>\n",
       "      <th>ORDER_AMOUNT</th>\n",
       "      <th>ORD_DATE</th>\n",
       "      <th>CUS_Id</th>\n",
       "      <th>PROD_ID</th>\n",
       "      <th>PRO_NAME</th>\n",
       "      <th>PRO_DESC</th>\n",
       "    </tr>\n",
       "  </thead>\n",
       "  <tbody>\n",
       "    <tr>\n",
       "      <th>0</th>\n",
       "      <td>50</td>\n",
       "      <td>2000</td>\n",
       "      <td>2021-10-06</td>\n",
       "      <td>2</td>\n",
       "      <td>1</td>\n",
       "      <td>GTA V</td>\n",
       "      <td>DFJDJFDJFDJFDJFJF</td>\n",
       "    </tr>\n",
       "  </tbody>\n",
       "</table>\n",
       "</div>"
      ],
      "text/plain": [
       "   ORD_ID  ORDER_AMOUNT    ORD_DATE  CUS_Id  PROD_ID PRO_NAME  \\\n",
       "0      50          2000  2021-10-06       2        1    GTA V   \n",
       "\n",
       "            PRO_DESC  \n",
       "0  DFJDJFDJFDJFDJFJF  "
      ]
     },
     "execution_count": 26,
     "metadata": {},
     "output_type": "execute_result"
    }
   ],
   "source": [
    "product_name_query = \"\"\"\n",
    "    SELECT o.*, p.PRO_NAME, p.PRO_DESC\n",
    "    FROM orders o\n",
    "    JOIN product_details pd ON o.PROD_ID = pd.PROD_ID\n",
    "    JOIN product p ON pd.PRO_ID = p.PRO_ID\n",
    "    WHERE o.CUS_ID = 2;\n",
    "\"\"\"\n",
    "\n",
    "cursor.execute(product_name_query)\n",
    "output = cursor.fetchall()\n",
    "\n",
    "output_df = pd.DataFrame(output, columns=['ORD_ID', 'ORDER_AMOUNT', 'ORD_DATE','CUS_Id', 'PROD_ID', 'PRO_NAME', 'PRO_DESC'])\n",
    "output_df"
   ]
  },
  {
   "cell_type": "markdown",
   "id": "3a33398e",
   "metadata": {
    "id": "3a33398e"
   },
   "source": [
    "### Q5) Display the Supplier details who can supply more than one product."
   ]
  },
  {
   "cell_type": "code",
   "execution_count": 27,
   "id": "e933b979",
   "metadata": {
    "id": "e933b979"
   },
   "outputs": [
    {
     "data": {
      "text/html": [
       "<div>\n",
       "<style scoped>\n",
       "    .dataframe tbody tr th:only-of-type {\n",
       "        vertical-align: middle;\n",
       "    }\n",
       "\n",
       "    .dataframe tbody tr th {\n",
       "        vertical-align: top;\n",
       "    }\n",
       "\n",
       "    .dataframe thead th {\n",
       "        text-align: right;\n",
       "    }\n",
       "</style>\n",
       "<table border=\"1\" class=\"dataframe\">\n",
       "  <thead>\n",
       "    <tr style=\"text-align: right;\">\n",
       "      <th></th>\n",
       "      <th>SUPP_ID</th>\n",
       "      <th>SUPP_NAME</th>\n",
       "      <th>SUPP_CITY</th>\n",
       "      <th>SUPP_PHONE</th>\n",
       "    </tr>\n",
       "  </thead>\n",
       "  <tbody>\n",
       "    <tr>\n",
       "      <th>0</th>\n",
       "      <td>1</td>\n",
       "      <td>Rajesh Retails</td>\n",
       "      <td>Delhi</td>\n",
       "      <td>1234567890</td>\n",
       "    </tr>\n",
       "  </tbody>\n",
       "</table>\n",
       "</div>"
      ],
      "text/plain": [
       "   SUPP_ID       SUPP_NAME SUPP_CITY  SUPP_PHONE\n",
       "0        1  Rajesh Retails     Delhi  1234567890"
      ]
     },
     "execution_count": 27,
     "metadata": {},
     "output_type": "execute_result"
    }
   ],
   "source": [
    "supplier_details_query = \"\"\"\n",
    "    SELECT s.*\n",
    "    FROM supplier s\n",
    "    JOIN product_details pd ON s.SUPP_ID = pd.SUPP_ID\n",
    "    GROUP BY s.SUPP_ID\n",
    "    HAVING COUNT(pd.PROD_ID) > 1;\n",
    "\"\"\"\n",
    "cursor.execute(supplier_details_query)\n",
    "output = cursor.fetchall()\n",
    "\n",
    "output_df = pd.DataFrame(output, columns=['SUPP_ID', 'SUPP_NAME', 'SUPP_CITY', 'SUPP_PHONE'])\n",
    "output_df"
   ]
  },
  {
   "cell_type": "markdown",
   "id": "5fd319ef",
   "metadata": {
    "id": "5fd319ef"
   },
   "source": [
    "### Q6) Find the category of the product whose order amount is minimum."
   ]
  },
  {
   "cell_type": "code",
   "execution_count": 28,
   "id": "06f5cb51",
   "metadata": {
    "id": "06f5cb51"
   },
   "outputs": [
    {
     "data": {
      "text/html": [
       "<div>\n",
       "<style scoped>\n",
       "    .dataframe tbody tr th:only-of-type {\n",
       "        vertical-align: middle;\n",
       "    }\n",
       "\n",
       "    .dataframe tbody tr th {\n",
       "        vertical-align: top;\n",
       "    }\n",
       "\n",
       "    .dataframe thead th {\n",
       "        text-align: right;\n",
       "    }\n",
       "</style>\n",
       "<table border=\"1\" class=\"dataframe\">\n",
       "  <thead>\n",
       "    <tr style=\"text-align: right;\">\n",
       "      <th></th>\n",
       "      <th>Cat_Id</th>\n",
       "      <th>Cat_Name</th>\n",
       "    </tr>\n",
       "  </thead>\n",
       "  <tbody>\n",
       "    <tr>\n",
       "      <th>0</th>\n",
       "      <td>3</td>\n",
       "      <td>GROCERIES</td>\n",
       "    </tr>\n",
       "  </tbody>\n",
       "</table>\n",
       "</div>"
      ],
      "text/plain": [
       "   Cat_Id   Cat_Name\n",
       "0       3  GROCERIES"
      ]
     },
     "execution_count": 28,
     "metadata": {},
     "output_type": "execute_result"
    }
   ],
   "source": [
    "category_details_query = \"\"\"\n",
    "    select c.* from category c\n",
    "    join  product p ON c.cat_id = p.cat_id\n",
    "    JOIN product_details pd ON p.PRO_ID = pd.PRO_ID\n",
    "    join `orders` o on pd.prod_Id = o.prod_id\n",
    "    where o.ord_amount = (select min(ord_amount)\n",
    "    from `orders`);\n",
    "\"\"\"\n",
    "\n",
    "cursor.execute(category_details_query)\n",
    "output = cursor.fetchall()\n",
    "\n",
    "output_df = pd.DataFrame(output, columns =['Cat_Id', 'Cat_Name'])\n",
    "output_df"
   ]
  },
  {
   "cell_type": "markdown",
   "id": "107102d4",
   "metadata": {
    "id": "107102d4"
   },
   "source": [
    "### Q7) Display the Id and Name of the Product ordered after “2021-10-05”."
   ]
  },
  {
   "cell_type": "code",
   "execution_count": 35,
   "id": "5d3fc7e8",
   "metadata": {
    "id": "5d3fc7e8"
   },
   "outputs": [
    {
     "data": {
      "text/html": [
       "<div>\n",
       "<style scoped>\n",
       "    .dataframe tbody tr th:only-of-type {\n",
       "        vertical-align: middle;\n",
       "    }\n",
       "\n",
       "    .dataframe tbody tr th {\n",
       "        vertical-align: top;\n",
       "    }\n",
       "\n",
       "    .dataframe thead th {\n",
       "        text-align: right;\n",
       "    }\n",
       "</style>\n",
       "<table border=\"1\" class=\"dataframe\">\n",
       "  <thead>\n",
       "    <tr style=\"text-align: right;\">\n",
       "      <th></th>\n",
       "      <th>Product_ID</th>\n",
       "      <th>Product_Name</th>\n",
       "    </tr>\n",
       "  </thead>\n",
       "  <tbody>\n",
       "    <tr>\n",
       "      <th>0</th>\n",
       "      <td>4</td>\n",
       "      <td>OATS</td>\n",
       "    </tr>\n",
       "    <tr>\n",
       "      <th>1</th>\n",
       "      <td>1</td>\n",
       "      <td>GTA V</td>\n",
       "    </tr>\n",
       "  </tbody>\n",
       "</table>\n",
       "</div>"
      ],
      "text/plain": [
       "   Product_ID Product_Name\n",
       "0           4         OATS\n",
       "1           1        GTA V"
      ]
     },
     "execution_count": 35,
     "metadata": {},
     "output_type": "execute_result"
    }
   ],
   "source": [
    "product_Details_query = \"\"\"\n",
    "    select p.pro_id, p.pro_name from product p \n",
    "    join product_details pd on p.pro_Id = pd.pro_Id\n",
    "    join `orders` o on pd.prod_Id = o.prod_Id where o.order_date > '2021-10-05';\n",
    "\"\"\"\n",
    "\n",
    "cursor.execute(product_Details_query)\n",
    "output = cursor.fetchall()\n",
    "\n",
    "output_df = pd.DataFrame(output, columns = ['Product_ID', 'Product_Name'])\n",
    "output_df"
   ]
  },
  {
   "cell_type": "markdown",
   "id": "bdce7167",
   "metadata": {
    "id": "bdce7167"
   },
   "source": [
    "### Q8) Print the top 3 supplier name and id and rating on the basis of their rating along with the customer name who has given the rating."
   ]
  },
  {
   "cell_type": "code",
   "execution_count": 38,
   "id": "fa0cbe44",
   "metadata": {
    "id": "fa0cbe44"
   },
   "outputs": [
    {
     "data": {
      "text/html": [
       "<div>\n",
       "<style scoped>\n",
       "    .dataframe tbody tr th:only-of-type {\n",
       "        vertical-align: middle;\n",
       "    }\n",
       "\n",
       "    .dataframe tbody tr th {\n",
       "        vertical-align: top;\n",
       "    }\n",
       "\n",
       "    .dataframe thead th {\n",
       "        text-align: right;\n",
       "    }\n",
       "</style>\n",
       "<table border=\"1\" class=\"dataframe\">\n",
       "  <thead>\n",
       "    <tr style=\"text-align: right;\">\n",
       "      <th></th>\n",
       "      <th>sup_id</th>\n",
       "      <th>sup_Name</th>\n",
       "      <th>cus_name</th>\n",
       "      <th>Rating</th>\n",
       "    </tr>\n",
       "  </thead>\n",
       "  <tbody>\n",
       "    <tr>\n",
       "      <th>0</th>\n",
       "      <td>2</td>\n",
       "      <td>Appario Ltd.</td>\n",
       "      <td>AMAN</td>\n",
       "      <td>4</td>\n",
       "    </tr>\n",
       "    <tr>\n",
       "      <th>1</th>\n",
       "      <td>1</td>\n",
       "      <td>Rajesh Retails</td>\n",
       "      <td>PULKIT</td>\n",
       "      <td>5</td>\n",
       "    </tr>\n",
       "    <tr>\n",
       "      <th>2</th>\n",
       "      <td>5</td>\n",
       "      <td>Mittal Ltd.</td>\n",
       "      <td>MEGHA</td>\n",
       "      <td>4</td>\n",
       "    </tr>\n",
       "  </tbody>\n",
       "</table>\n",
       "</div>"
      ],
      "text/plain": [
       "   sup_id        sup_Name cus_name  Rating\n",
       "0       2    Appario Ltd.     AMAN       4\n",
       "1       1  Rajesh Retails   PULKIT       5\n",
       "2       5     Mittal Ltd.    MEGHA       4"
      ]
     },
     "execution_count": 38,
     "metadata": {},
     "output_type": "execute_result"
    }
   ],
   "source": [
    "Top_3_supplier_query = \"\"\"\n",
    "    select s.supp_Id, s.supp_name, c.cus_name, r.RAT_RATSTARS from supplier s \n",
    "    join rating r on s.supp_Id =  r.supp_Id\n",
    "    join customer c on r.cus_Id = c.cus_Id\n",
    "    where Rat_Ratstars>3;\n",
    "\"\"\"\n",
    "\n",
    "cursor.execute(Top_3_supplier_query)\n",
    "output = cursor.fetchall()\n",
    "\n",
    "output_df = pd.DataFrame(output, columns = ['sup_id','sup_Name', 'cus_name', 'Rating'])\n",
    "output_df"
   ]
  },
  {
   "cell_type": "markdown",
   "id": "346ec2a1",
   "metadata": {
    "id": "346ec2a1"
   },
   "source": [
    "### Q9) Display customer name and gender whose names start or end with character 'A'."
   ]
  },
  {
   "cell_type": "code",
   "execution_count": 39,
   "id": "e571b5fd",
   "metadata": {
    "id": "e571b5fd"
   },
   "outputs": [
    {
     "data": {
      "text/html": [
       "<div>\n",
       "<style scoped>\n",
       "    .dataframe tbody tr th:only-of-type {\n",
       "        vertical-align: middle;\n",
       "    }\n",
       "\n",
       "    .dataframe tbody tr th {\n",
       "        vertical-align: top;\n",
       "    }\n",
       "\n",
       "    .dataframe thead th {\n",
       "        text-align: right;\n",
       "    }\n",
       "</style>\n",
       "<table border=\"1\" class=\"dataframe\">\n",
       "  <thead>\n",
       "    <tr style=\"text-align: right;\">\n",
       "      <th></th>\n",
       "      <th>cus_name</th>\n",
       "      <th>Cus_Gender</th>\n",
       "    </tr>\n",
       "  </thead>\n",
       "  <tbody>\n",
       "    <tr>\n",
       "      <th>0</th>\n",
       "      <td>AAKASH</td>\n",
       "      <td>M</td>\n",
       "    </tr>\n",
       "    <tr>\n",
       "      <th>1</th>\n",
       "      <td>AMAN</td>\n",
       "      <td>M</td>\n",
       "    </tr>\n",
       "    <tr>\n",
       "      <th>2</th>\n",
       "      <td>NEHA</td>\n",
       "      <td>F</td>\n",
       "    </tr>\n",
       "    <tr>\n",
       "      <th>3</th>\n",
       "      <td>MEGHA</td>\n",
       "      <td>F</td>\n",
       "    </tr>\n",
       "  </tbody>\n",
       "</table>\n",
       "</div>"
      ],
      "text/plain": [
       "  cus_name Cus_Gender\n",
       "0   AAKASH          M\n",
       "1     AMAN          M\n",
       "2     NEHA          F\n",
       "3    MEGHA          F"
      ]
     },
     "execution_count": 39,
     "metadata": {},
     "output_type": "execute_result"
    }
   ],
   "source": [
    "customer_name_gender_Query = \"\"\"\n",
    "   SELECT CUS_NAME, CUS_GENDER\n",
    "    FROM customer\n",
    "    WHERE CUS_NAME LIKE 'A%' OR CUS_NAME LIKE '%A';\n",
    "\"\"\"\n",
    "\n",
    "cursor.execute(customer_name_gender_Query)\n",
    "output = cursor.fetchall()\n",
    "\n",
    "output_df = pd.DataFrame(output, columns = ['cus_name', 'Cus_Gender'])\n",
    "output_df"
   ]
  },
  {
   "cell_type": "markdown",
   "id": "d0b01f77",
   "metadata": {
    "id": "d0b01f77"
   },
   "source": [
    "### Q10) Display the total order amount of the male customers."
   ]
  },
  {
   "cell_type": "code",
   "execution_count": 42,
   "id": "c3fa76e3",
   "metadata": {
    "id": "c3fa76e3"
   },
   "outputs": [
    {
     "name": "stdout",
     "output_type": "stream",
     "text": [
      "Total_Order_Amount_Male  [(Decimal('34500'),)]\n"
     ]
    }
   ],
   "source": [
    "Total_Order_Amount = \"\"\"\n",
    "    SELECT SUM(ORD_AMOUNT) AS Total_Order_Amount_Male\n",
    "    FROM orders\n",
    "    WHERE CUS_ID IN (\n",
    "        SELECT CUS_ID\n",
    "        FROM customer\n",
    "        WHERE CUS_GENDER = 'M'\n",
    ");\n",
    "\"\"\"\n",
    "\n",
    "cursor.execute(Total_Order_Amount)\n",
    "output = cursor.fetchall()\n",
    "\n",
    "\n",
    "print('Total_Order_Amount_Male ', output)"
   ]
  },
  {
   "cell_type": "markdown",
   "id": "ff8a9971",
   "metadata": {
    "id": "ff8a9971"
   },
   "source": [
    "### Q11) Display all the Customers left outer join with  the orders"
   ]
  },
  {
   "cell_type": "code",
   "execution_count": 43,
   "id": "a340c6d6",
   "metadata": {
    "id": "a340c6d6"
   },
   "outputs": [
    {
     "data": {
      "text/html": [
       "<div>\n",
       "<style scoped>\n",
       "    .dataframe tbody tr th:only-of-type {\n",
       "        vertical-align: middle;\n",
       "    }\n",
       "\n",
       "    .dataframe tbody tr th {\n",
       "        vertical-align: top;\n",
       "    }\n",
       "\n",
       "    .dataframe thead th {\n",
       "        text-align: right;\n",
       "    }\n",
       "</style>\n",
       "<table border=\"1\" class=\"dataframe\">\n",
       "  <thead>\n",
       "    <tr style=\"text-align: right;\">\n",
       "      <th></th>\n",
       "      <th>CUS_ID</th>\n",
       "      <th>CUS_NAME</th>\n",
       "      <th>CUS_PHONE</th>\n",
       "      <th>CUS_CITY</th>\n",
       "      <th>CUS_GENDER</th>\n",
       "      <th>ORD_ID</th>\n",
       "      <th>ORD_AMOUNT</th>\n",
       "      <th>ORDER_DATE</th>\n",
       "      <th>CUS_ID</th>\n",
       "      <th>PROD_ID</th>\n",
       "    </tr>\n",
       "  </thead>\n",
       "  <tbody>\n",
       "    <tr>\n",
       "      <th>0</th>\n",
       "      <td>1</td>\n",
       "      <td>AAKASH</td>\n",
       "      <td>9999999999</td>\n",
       "      <td>DELHI</td>\n",
       "      <td>M</td>\n",
       "      <td>26</td>\n",
       "      <td>2000</td>\n",
       "      <td>2021-10-05</td>\n",
       "      <td>1</td>\n",
       "      <td>1</td>\n",
       "    </tr>\n",
       "    <tr>\n",
       "      <th>1</th>\n",
       "      <td>2</td>\n",
       "      <td>AMAN</td>\n",
       "      <td>9785463215</td>\n",
       "      <td>NOIDA</td>\n",
       "      <td>M</td>\n",
       "      <td>50</td>\n",
       "      <td>2000</td>\n",
       "      <td>2021-10-06</td>\n",
       "      <td>2</td>\n",
       "      <td>1</td>\n",
       "    </tr>\n",
       "    <tr>\n",
       "      <th>2</th>\n",
       "      <td>3</td>\n",
       "      <td>NEHA</td>\n",
       "      <td>9999999998</td>\n",
       "      <td>MUMBAI</td>\n",
       "      <td>F</td>\n",
       "      <td>20</td>\n",
       "      <td>1500</td>\n",
       "      <td>2021-10-12</td>\n",
       "      <td>3</td>\n",
       "      <td>5</td>\n",
       "    </tr>\n",
       "    <tr>\n",
       "      <th>3</th>\n",
       "      <td>4</td>\n",
       "      <td>MEGHA</td>\n",
       "      <td>9994562399</td>\n",
       "      <td>KOLKATA</td>\n",
       "      <td>F</td>\n",
       "      <td>30</td>\n",
       "      <td>3500</td>\n",
       "      <td>2021-08-16</td>\n",
       "      <td>4</td>\n",
       "      <td>3</td>\n",
       "    </tr>\n",
       "    <tr>\n",
       "      <th>4</th>\n",
       "      <td>5</td>\n",
       "      <td>PULKIT</td>\n",
       "      <td>7895999999</td>\n",
       "      <td>LUCKNOW</td>\n",
       "      <td>M</td>\n",
       "      <td>25</td>\n",
       "      <td>30500</td>\n",
       "      <td>2021-09-16</td>\n",
       "      <td>5</td>\n",
       "      <td>2</td>\n",
       "    </tr>\n",
       "  </tbody>\n",
       "</table>\n",
       "</div>"
      ],
      "text/plain": [
       "   CUS_ID CUS_NAME   CUS_PHONE CUS_CITY CUS_GENDER  ORD_ID  ORD_AMOUNT  \\\n",
       "0       1   AAKASH  9999999999    DELHI          M      26        2000   \n",
       "1       2     AMAN  9785463215    NOIDA          M      50        2000   \n",
       "2       3     NEHA  9999999998   MUMBAI          F      20        1500   \n",
       "3       4    MEGHA  9994562399  KOLKATA          F      30        3500   \n",
       "4       5   PULKIT  7895999999  LUCKNOW          M      25       30500   \n",
       "\n",
       "   ORDER_DATE  CUS_ID  PROD_ID  \n",
       "0  2021-10-05       1        1  \n",
       "1  2021-10-06       2        1  \n",
       "2  2021-10-12       3        5  \n",
       "3  2021-08-16       4        3  \n",
       "4  2021-09-16       5        2  "
      ]
     },
     "execution_count": 43,
     "metadata": {},
     "output_type": "execute_result"
    }
   ],
   "source": [
    "cus_left_outer_join_orders = \"\"\"\n",
    "    SELECT *\n",
    "    FROM customer\n",
    "    LEFT OUTER JOIN orders ON customer.CUS_ID = orders.CUS_ID;\n",
    "\"\"\"\n",
    "\n",
    "cursor.execute(cus_left_outer_join_orders)\n",
    "output = cursor.fetchall()\n",
    "\n",
    "output_df = pd.DataFrame(output, columns = ['CUS_ID', 'CUS_NAME', 'CUS_PHONE', 'CUS_CITY', 'CUS_GENDER', 'ORD_ID', 'ORD_AMOUNT', 'ORDER_DATE', 'CUS_ID', 'PROD_ID' ])\n",
    "output_df"
   ]
  },
  {
   "cell_type": "markdown",
   "id": "0a72afe3",
   "metadata": {
    "id": "0a72afe3"
   },
   "source": [
    "**NOTE:** Always close an open connection once you are done with the database operations"
   ]
  },
  {
   "cell_type": "markdown",
   "id": "8c88f479",
   "metadata": {
    "id": "8c88f479"
   },
   "source": [
    "## Happy Learning:)"
   ]
  }
 ],
 "metadata": {
  "colab": {
   "name": "Lab Session  -  E-Commerce.ipynb",
   "provenance": []
  },
  "kernelspec": {
   "display_name": "Python 3 (ipykernel)",
   "language": "python",
   "name": "python3"
  },
  "language_info": {
   "codemirror_mode": {
    "name": "ipython",
    "version": 3
   },
   "file_extension": ".py",
   "mimetype": "text/x-python",
   "name": "python",
   "nbconvert_exporter": "python",
   "pygments_lexer": "ipython3",
   "version": "3.11.5"
  }
 },
 "nbformat": 4,
 "nbformat_minor": 5
}
